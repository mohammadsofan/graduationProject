{
 "cells": [
  {
   "cell_type": "code",
   "execution_count": 1,
   "id": "4afe5344",
   "metadata": {
    "scrolled": false
   },
   "outputs": [
    {
     "name": "stderr",
     "output_type": "stream",
     "text": [
      "2025-03-23 19:16:23.927808: E external/local_xla/xla/stream_executor/cuda/cuda_fft.cc:477] Unable to register cuFFT factory: Attempting to register factory for plugin cuFFT when one has already been registered\n",
      "WARNING: All log messages before absl::InitializeLog() is called are written to STDERR\n",
      "E0000 00:00:1742750183.944408    9142 cuda_dnn.cc:8310] Unable to register cuDNN factory: Attempting to register factory for plugin cuDNN when one has already been registered\n",
      "E0000 00:00:1742750183.949805    9142 cuda_blas.cc:1418] Unable to register cuBLAS factory: Attempting to register factory for plugin cuBLAS when one has already been registered\n",
      "2025-03-23 19:16:23.966702: I tensorflow/core/platform/cpu_feature_guard.cc:210] This TensorFlow binary is optimized to use available CPU instructions in performance-critical operations.\n",
      "To enable the following instructions: AVX2 FMA, in other operations, rebuild TensorFlow with the appropriate compiler flags.\n"
     ]
    },
    {
     "name": "stdout",
     "output_type": "stream",
     "text": [
      "Class Weights: {0: 0.40406976744186046, 1: 0.5959302325581395}\n"
     ]
    },
    {
     "name": "stderr",
     "output_type": "stream",
     "text": [
      "I0000 00:00:1742750186.950200    9142 gpu_device.cc:2022] Created device /job:localhost/replica:0/task:0/device:GPU:0 with 4481 MB memory:  -> device: 0, name: NVIDIA GeForce GTX 1660, pci bus id: 0000:01:00.0, compute capability: 7.5\n",
      "/home/mohammad/.local/lib/python3.12/site-packages/keras/src/trainers/data_adapters/py_dataset_adapter.py:121: UserWarning: Your `PyDataset` class should call `super().__init__(**kwargs)` in its constructor. `**kwargs` can include `workers`, `use_multiprocessing`, `max_queue_size`. Do not pass these arguments to `fit()`, as they will be ignored.\n",
      "  self._warn_if_super_not_called()\n"
     ]
    },
    {
     "name": "stdout",
     "output_type": "stream",
     "text": [
      "Epoch 1/20\n"
     ]
    },
    {
     "name": "stderr",
     "output_type": "stream",
     "text": [
      "/home/mohammad/.local/lib/python3.12/site-packages/keras/src/models/functional.py:237: UserWarning: The structure of `inputs` doesn't match the expected structure.\n",
      "Expected: ['keras_tensor']\n",
      "Received: inputs=Tensor(shape=(None, 320, 320, 3))\n",
      "  warnings.warn(msg)\n",
      "WARNING: All log messages before absl::InitializeLog() is called are written to STDERR\n",
      "I0000 00:00:1742750204.830951    9178 service.cc:148] XLA service 0x70f4b4004990 initialized for platform CUDA (this does not guarantee that XLA will be used). Devices:\n",
      "I0000 00:00:1742750204.830968    9178 service.cc:156]   StreamExecutor device (0): NVIDIA GeForce GTX 1660, Compute Capability 7.5\n",
      "2025-03-23 19:16:45.390963: I tensorflow/compiler/mlir/tensorflow/utils/dump_mlir_util.cc:268] disabling MLIR crash reproducer, set env var `MLIR_CRASH_REPRODUCER_DIRECTORY` to enable.\n",
      "I0000 00:00:1742750207.831917    9178 cuda_dnn.cc:529] Loaded cuDNN version 90701\n",
      "2025-03-23 19:16:49.053803: I external/local_xla/xla/service/gpu/autotuning/conv_algorithm_picker.cc:557] Omitted potentially buggy algorithm eng14{k25=2} for conv (f32[8,64,80,80]{3,2,1,0}, u8[0]{0}) custom-call(f32[8,64,80,80]{3,2,1,0}, f32[64,64,3,3]{3,2,1,0}, f32[64]{0}), window={size=3x3 pad=1_1x1_1}, dim_labels=bf01_oi01->bf01, custom_call_target=\"__cudnn$convBiasActivationForward\", backend_config={\"cudnn_conv_backend_config\":{\"activation_mode\":\"kNone\",\"conv_result_scale\":1,\"leakyrelu_alpha\":0,\"side_input_scale\":0},\"force_earliest_schedule\":false,\"operation_queue_id\":\"0\",\"wait_on_operation_queues\":[]}\n",
      "2025-03-23 19:16:49.305875: I external/local_xla/xla/service/gpu/autotuning/conv_algorithm_picker.cc:557] Omitted potentially buggy algorithm eng14{k25=2} for conv (f32[8,128,40,40]{3,2,1,0}, u8[0]{0}) custom-call(f32[8,128,40,40]{3,2,1,0}, f32[128,128,3,3]{3,2,1,0}, f32[128]{0}), window={size=3x3 pad=1_1x1_1}, dim_labels=bf01_oi01->bf01, custom_call_target=\"__cudnn$convBiasActivationForward\", backend_config={\"cudnn_conv_backend_config\":{\"activation_mode\":\"kNone\",\"conv_result_scale\":1,\"leakyrelu_alpha\":0,\"side_input_scale\":0},\"force_earliest_schedule\":false,\"operation_queue_id\":\"0\",\"wait_on_operation_queues\":[]}\n",
      "2025-03-23 19:16:49.552633: I external/local_xla/xla/service/gpu/autotuning/conv_algorithm_picker.cc:557] Omitted potentially buggy algorithm eng14{k25=2} for conv (f32[8,256,20,20]{3,2,1,0}, u8[0]{0}) custom-call(f32[8,256,20,20]{3,2,1,0}, f32[256,256,3,3]{3,2,1,0}, f32[256]{0}), window={size=3x3 pad=1_1x1_1}, dim_labels=bf01_oi01->bf01, custom_call_target=\"__cudnn$convBiasActivationForward\", backend_config={\"cudnn_conv_backend_config\":{\"activation_mode\":\"kNone\",\"conv_result_scale\":1,\"leakyrelu_alpha\":0,\"side_input_scale\":0},\"force_earliest_schedule\":false,\"operation_queue_id\":\"0\",\"wait_on_operation_queues\":[]}\n",
      "2025-03-23 19:16:49.812075: I external/local_xla/xla/service/gpu/autotuning/conv_algorithm_picker.cc:557] Omitted potentially buggy algorithm eng14{k25=2} for conv (f32[8,512,10,10]{3,2,1,0}, u8[0]{0}) custom-call(f32[8,512,10,10]{3,2,1,0}, f32[512,512,3,3]{3,2,1,0}, f32[512]{0}), window={size=3x3 pad=1_1x1_1}, dim_labels=bf01_oi01->bf01, custom_call_target=\"__cudnn$convBiasActivationForward\", backend_config={\"cudnn_conv_backend_config\":{\"activation_mode\":\"kNone\",\"conv_result_scale\":1,\"leakyrelu_alpha\":0,\"side_input_scale\":0},\"force_earliest_schedule\":false,\"operation_queue_id\":\"0\",\"wait_on_operation_queues\":[]}\n",
      "2025-03-23 19:16:50.409215: W external/local_xla/xla/tsl/framework/bfc_allocator.cc:306] Allocator (GPU_0_bfc) ran out of memory trying to allocate 18.13GiB with freed_by_count=0. The caller indicates that this is not a failure, but this may mean that there could be performance gains if more memory were available.\n",
      "I0000 00:00:1742750216.913083    9178 device_compiler.h:188] Compiled cluster using XLA!  This line is logged at most once for the lifetime of the process.\n"
     ]
    },
    {
     "name": "stdout",
     "output_type": "stream",
     "text": [
      "\u001b[1m2447/5815\u001b[0m \u001b[32m━━━━━━━━\u001b[0m\u001b[37m━━━━━━━━━━━━\u001b[0m \u001b[1m15:09\u001b[0m 270ms/step - accuracy: 0.6291 - loss: 2.1737"
     ]
    },
    {
     "name": "stderr",
     "output_type": "stream",
     "text": [
      "2025-03-23 19:28:00.596088: I external/local_xla/xla/service/gpu/autotuning/conv_algorithm_picker.cc:557] Omitted potentially buggy algorithm eng14{k25=2} for conv (f32[1,64,80,80]{3,2,1,0}, u8[0]{0}) custom-call(f32[1,64,80,80]{3,2,1,0}, f32[64,64,3,3]{3,2,1,0}, f32[64]{0}), window={size=3x3 pad=1_1x1_1}, dim_labels=bf01_oi01->bf01, custom_call_target=\"__cudnn$convBiasActivationForward\", backend_config={\"cudnn_conv_backend_config\":{\"activation_mode\":\"kNone\",\"conv_result_scale\":1,\"leakyrelu_alpha\":0,\"side_input_scale\":0},\"force_earliest_schedule\":false,\"operation_queue_id\":\"0\",\"wait_on_operation_queues\":[]}\n",
      "2025-03-23 19:28:00.741284: I external/local_xla/xla/service/gpu/autotuning/conv_algorithm_picker.cc:557] Omitted potentially buggy algorithm eng14{k25=2} for conv (f32[1,128,40,40]{3,2,1,0}, u8[0]{0}) custom-call(f32[1,128,40,40]{3,2,1,0}, f32[128,128,3,3]{3,2,1,0}, f32[128]{0}), window={size=3x3 pad=1_1x1_1}, dim_labels=bf01_oi01->bf01, custom_call_target=\"__cudnn$convBiasActivationForward\", backend_config={\"cudnn_conv_backend_config\":{\"activation_mode\":\"kNone\",\"conv_result_scale\":1,\"leakyrelu_alpha\":0,\"side_input_scale\":0},\"force_earliest_schedule\":false,\"operation_queue_id\":\"0\",\"wait_on_operation_queues\":[]}\n",
      "2025-03-23 19:28:00.890142: I external/local_xla/xla/service/gpu/autotuning/conv_algorithm_picker.cc:557] Omitted potentially buggy algorithm eng14{k25=2} for conv (f32[1,256,20,20]{3,2,1,0}, u8[0]{0}) custom-call(f32[1,256,20,20]{3,2,1,0}, f32[256,256,3,3]{3,2,1,0}, f32[256]{0}), window={size=3x3 pad=1_1x1_1}, dim_labels=bf01_oi01->bf01, custom_call_target=\"__cudnn$convBiasActivationForward\", backend_config={\"cudnn_conv_backend_config\":{\"activation_mode\":\"kNone\",\"conv_result_scale\":1,\"leakyrelu_alpha\":0,\"side_input_scale\":0},\"force_earliest_schedule\":false,\"operation_queue_id\":\"0\",\"wait_on_operation_queues\":[]}\n",
      "2025-03-23 19:28:01.044012: I external/local_xla/xla/service/gpu/autotuning/conv_algorithm_picker.cc:557] Omitted potentially buggy algorithm eng14{k25=2} for conv (f32[1,512,10,10]{3,2,1,0}, u8[0]{0}) custom-call(f32[1,512,10,10]{3,2,1,0}, f32[512,512,3,3]{3,2,1,0}, f32[512]{0}), window={size=3x3 pad=1_1x1_1}, dim_labels=bf01_oi01->bf01, custom_call_target=\"__cudnn$convBiasActivationForward\", backend_config={\"cudnn_conv_backend_config\":{\"activation_mode\":\"kNone\",\"conv_result_scale\":1,\"leakyrelu_alpha\":0,\"side_input_scale\":0},\"force_earliest_schedule\":false,\"operation_queue_id\":\"0\",\"wait_on_operation_queues\":[]}\n"
     ]
    },
    {
     "name": "stdout",
     "output_type": "stream",
     "text": [
      "\u001b[1m5815/5815\u001b[0m \u001b[32m━━━━━━━━━━━━━━━━━━━━\u001b[0m\u001b[37m\u001b[0m \u001b[1m0s\u001b[0m 249ms/step - accuracy: 0.6468 - loss: 1.4259"
     ]
    },
    {
     "name": "stderr",
     "output_type": "stream",
     "text": [
      "2025-03-23 19:41:59.992138: I external/local_xla/xla/service/gpu/autotuning/conv_algorithm_picker.cc:557] Omitted potentially buggy algorithm eng14{k25=2} for conv (f32[5,64,80,80]{3,2,1,0}, u8[0]{0}) custom-call(f32[5,64,80,80]{3,2,1,0}, f32[64,64,3,3]{3,2,1,0}, f32[64]{0}), window={size=3x3 pad=1_1x1_1}, dim_labels=bf01_oi01->bf01, custom_call_target=\"__cudnn$convBiasActivationForward\", backend_config={\"cudnn_conv_backend_config\":{\"activation_mode\":\"kNone\",\"conv_result_scale\":1,\"leakyrelu_alpha\":0,\"side_input_scale\":0},\"force_earliest_schedule\":false,\"operation_queue_id\":\"0\",\"wait_on_operation_queues\":[]}\n",
      "2025-03-23 19:42:00.198484: I external/local_xla/xla/service/gpu/autotuning/conv_algorithm_picker.cc:557] Omitted potentially buggy algorithm eng14{k25=2} for conv (f32[5,128,40,40]{3,2,1,0}, u8[0]{0}) custom-call(f32[5,128,40,40]{3,2,1,0}, f32[128,128,3,3]{3,2,1,0}, f32[128]{0}), window={size=3x3 pad=1_1x1_1}, dim_labels=bf01_oi01->bf01, custom_call_target=\"__cudnn$convBiasActivationForward\", backend_config={\"cudnn_conv_backend_config\":{\"activation_mode\":\"kNone\",\"conv_result_scale\":1,\"leakyrelu_alpha\":0,\"side_input_scale\":0},\"force_earliest_schedule\":false,\"operation_queue_id\":\"0\",\"wait_on_operation_queues\":[]}\n",
      "2025-03-23 19:42:00.398631: I external/local_xla/xla/service/gpu/autotuning/conv_algorithm_picker.cc:557] Omitted potentially buggy algorithm eng14{k25=2} for conv (f32[5,256,20,20]{3,2,1,0}, u8[0]{0}) custom-call(f32[5,256,20,20]{3,2,1,0}, f32[256,256,3,3]{3,2,1,0}, f32[256]{0}), window={size=3x3 pad=1_1x1_1}, dim_labels=bf01_oi01->bf01, custom_call_target=\"__cudnn$convBiasActivationForward\", backend_config={\"cudnn_conv_backend_config\":{\"activation_mode\":\"kNone\",\"conv_result_scale\":1,\"leakyrelu_alpha\":0,\"side_input_scale\":0},\"force_earliest_schedule\":false,\"operation_queue_id\":\"0\",\"wait_on_operation_queues\":[]}\n",
      "2025-03-23 19:42:00.586844: I external/local_xla/xla/service/gpu/autotuning/conv_algorithm_picker.cc:557] Omitted potentially buggy algorithm eng14{k25=2} for conv (f32[5,512,10,10]{3,2,1,0}, u8[0]{0}) custom-call(f32[5,512,10,10]{3,2,1,0}, f32[512,512,3,3]{3,2,1,0}, f32[512]{0}), window={size=3x3 pad=1_1x1_1}, dim_labels=bf01_oi01->bf01, custom_call_target=\"__cudnn$convBiasActivationForward\", backend_config={\"cudnn_conv_backend_config\":{\"activation_mode\":\"kNone\",\"conv_result_scale\":1,\"leakyrelu_alpha\":0,\"side_input_scale\":0},\"force_earliest_schedule\":false,\"operation_queue_id\":\"0\",\"wait_on_operation_queues\":[]}\n"
     ]
    },
    {
     "name": "stdout",
     "output_type": "stream",
     "text": [
      "\n",
      "Epoch 1: val_loss improved from inf to 0.38573, saving model to resnet101_model2.h5\n"
     ]
    },
    {
     "name": "stderr",
     "output_type": "stream",
     "text": [
      "WARNING:absl:You are saving your model as an HDF5 file via `model.save()` or `keras.saving.save_model(model)`. This file format is considered legacy. We recommend using instead the native Keras format, e.g. `model.save('my_model.keras')` or `keras.saving.save_model(model, 'my_model.keras')`. \n"
     ]
    },
    {
     "name": "stdout",
     "output_type": "stream",
     "text": [
      "\u001b[1m5815/5815\u001b[0m \u001b[32m━━━━━━━━━━━━━━━━━━━━\u001b[0m\u001b[37m\u001b[0m \u001b[1m1534s\u001b[0m 259ms/step - accuracy: 0.6468 - loss: 1.4258 - val_accuracy: 0.7423 - val_loss: 0.3857 - learning_rate: 1.0000e-04\n",
      "Epoch 2/20\n",
      "\u001b[1m5815/5815\u001b[0m \u001b[32m━━━━━━━━━━━━━━━━━━━━\u001b[0m\u001b[37m\u001b[0m \u001b[1m0s\u001b[0m 153ms/step - accuracy: 0.7110 - loss: 0.4042\n",
      "Epoch 2: val_loss improved from 0.38573 to 0.35574, saving model to resnet101_model2.h5\n"
     ]
    },
    {
     "name": "stderr",
     "output_type": "stream",
     "text": [
      "WARNING:absl:You are saving your model as an HDF5 file via `model.save()` or `keras.saving.save_model(model)`. This file format is considered legacy. We recommend using instead the native Keras format, e.g. `model.save('my_model.keras')` or `keras.saving.save_model(model, 'my_model.keras')`. \n"
     ]
    },
    {
     "name": "stdout",
     "output_type": "stream",
     "text": [
      "\u001b[1m5815/5815\u001b[0m \u001b[32m━━━━━━━━━━━━━━━━━━━━\u001b[0m\u001b[37m\u001b[0m \u001b[1m935s\u001b[0m 161ms/step - accuracy: 0.7110 - loss: 0.4042 - val_accuracy: 0.7648 - val_loss: 0.3557 - learning_rate: 1.0000e-04\n",
      "Epoch 3/20\n",
      "\u001b[1m5815/5815\u001b[0m \u001b[32m━━━━━━━━━━━━━━━━━━━━\u001b[0m\u001b[37m\u001b[0m \u001b[1m0s\u001b[0m 155ms/step - accuracy: 0.7328 - loss: 0.3384\n",
      "Epoch 3: val_loss improved from 0.35574 to 0.30075, saving model to resnet101_model2.h5\n"
     ]
    },
    {
     "name": "stderr",
     "output_type": "stream",
     "text": [
      "WARNING:absl:You are saving your model as an HDF5 file via `model.save()` or `keras.saving.save_model(model)`. This file format is considered legacy. We recommend using instead the native Keras format, e.g. `model.save('my_model.keras')` or `keras.saving.save_model(model, 'my_model.keras')`. \n"
     ]
    },
    {
     "name": "stdout",
     "output_type": "stream",
     "text": [
      "\u001b[1m5815/5815\u001b[0m \u001b[32m━━━━━━━━━━━━━━━━━━━━\u001b[0m\u001b[37m\u001b[0m \u001b[1m949s\u001b[0m 163ms/step - accuracy: 0.7328 - loss: 0.3384 - val_accuracy: 0.7995 - val_loss: 0.3008 - learning_rate: 1.0000e-04\n",
      "Epoch 4/20\n",
      "\u001b[1m5815/5815\u001b[0m \u001b[32m━━━━━━━━━━━━━━━━━━━━\u001b[0m\u001b[37m\u001b[0m \u001b[1m0s\u001b[0m 151ms/step - accuracy: 0.7468 - loss: 0.3108\n",
      "Epoch 4: val_loss improved from 0.30075 to 0.28089, saving model to resnet101_model2.h5\n"
     ]
    },
    {
     "name": "stderr",
     "output_type": "stream",
     "text": [
      "WARNING:absl:You are saving your model as an HDF5 file via `model.save()` or `keras.saving.save_model(model)`. This file format is considered legacy. We recommend using instead the native Keras format, e.g. `model.save('my_model.keras')` or `keras.saving.save_model(model, 'my_model.keras')`. \n"
     ]
    },
    {
     "name": "stdout",
     "output_type": "stream",
     "text": [
      "\u001b[1m5815/5815\u001b[0m \u001b[32m━━━━━━━━━━━━━━━━━━━━\u001b[0m\u001b[37m\u001b[0m \u001b[1m926s\u001b[0m 159ms/step - accuracy: 0.7468 - loss: 0.3108 - val_accuracy: 0.7688 - val_loss: 0.2809 - learning_rate: 1.0000e-04\n",
      "Epoch 5/20\n",
      "\u001b[1m5815/5815\u001b[0m \u001b[32m━━━━━━━━━━━━━━━━━━━━\u001b[0m\u001b[37m\u001b[0m \u001b[1m0s\u001b[0m 158ms/step - accuracy: 0.7664 - loss: 0.2892\n",
      "Epoch 5: val_loss improved from 0.28089 to 0.25301, saving model to resnet101_model2.h5\n"
     ]
    },
    {
     "name": "stderr",
     "output_type": "stream",
     "text": [
      "WARNING:absl:You are saving your model as an HDF5 file via `model.save()` or `keras.saving.save_model(model)`. This file format is considered legacy. We recommend using instead the native Keras format, e.g. `model.save('my_model.keras')` or `keras.saving.save_model(model, 'my_model.keras')`. \n"
     ]
    },
    {
     "name": "stdout",
     "output_type": "stream",
     "text": [
      "\u001b[1m5815/5815\u001b[0m \u001b[32m━━━━━━━━━━━━━━━━━━━━\u001b[0m\u001b[37m\u001b[0m \u001b[1m969s\u001b[0m 167ms/step - accuracy: 0.7664 - loss: 0.2892 - val_accuracy: 0.8045 - val_loss: 0.2530 - learning_rate: 1.0000e-04\n",
      "Epoch 6/20\n",
      "\u001b[1m5815/5815\u001b[0m \u001b[32m━━━━━━━━━━━━━━━━━━━━\u001b[0m\u001b[37m\u001b[0m \u001b[1m0s\u001b[0m 156ms/step - accuracy: 0.7746 - loss: 0.2764\n",
      "Epoch 6: val_loss did not improve from 0.25301\n",
      "\u001b[1m5815/5815\u001b[0m \u001b[32m━━━━━━━━━━━━━━━━━━━━\u001b[0m\u001b[37m\u001b[0m \u001b[1m945s\u001b[0m 162ms/step - accuracy: 0.7746 - loss: 0.2764 - val_accuracy: 0.7964 - val_loss: 0.2751 - learning_rate: 1.0000e-04\n",
      "Epoch 7/20\n",
      "\u001b[1m5815/5815\u001b[0m \u001b[32m━━━━━━━━━━━━━━━━━━━━\u001b[0m\u001b[37m\u001b[0m \u001b[1m0s\u001b[0m 155ms/step - accuracy: 0.7831 - loss: 0.2694\n",
      "Epoch 7: ReduceLROnPlateau reducing learning rate to 4.999999873689376e-05.\n",
      "\n",
      "Epoch 7: val_loss did not improve from 0.25301\n",
      "\u001b[1m5815/5815\u001b[0m \u001b[32m━━━━━━━━━━━━━━━━━━━━\u001b[0m\u001b[37m\u001b[0m \u001b[1m937s\u001b[0m 161ms/step - accuracy: 0.7831 - loss: 0.2694 - val_accuracy: 0.7917 - val_loss: 0.2641 - learning_rate: 1.0000e-04\n",
      "Epoch 8/20\n",
      "\u001b[1m5815/5815\u001b[0m \u001b[32m━━━━━━━━━━━━━━━━━━━━\u001b[0m\u001b[37m\u001b[0m \u001b[1m0s\u001b[0m 155ms/step - accuracy: 0.8036 - loss: 0.2433\n",
      "Epoch 8: val_loss improved from 0.25301 to 0.23936, saving model to resnet101_model2.h5\n"
     ]
    },
    {
     "name": "stderr",
     "output_type": "stream",
     "text": [
      "WARNING:absl:You are saving your model as an HDF5 file via `model.save()` or `keras.saving.save_model(model)`. This file format is considered legacy. We recommend using instead the native Keras format, e.g. `model.save('my_model.keras')` or `keras.saving.save_model(model, 'my_model.keras')`. \n"
     ]
    },
    {
     "name": "stdout",
     "output_type": "stream",
     "text": [
      "\u001b[1m5815/5815\u001b[0m \u001b[32m━━━━━━━━━━━━━━━━━━━━\u001b[0m\u001b[37m\u001b[0m \u001b[1m950s\u001b[0m 163ms/step - accuracy: 0.8036 - loss: 0.2433 - val_accuracy: 0.8176 - val_loss: 0.2394 - learning_rate: 5.0000e-05\n",
      "Epoch 9/20\n",
      "\u001b[1m5815/5815\u001b[0m \u001b[32m━━━━━━━━━━━━━━━━━━━━\u001b[0m\u001b[37m\u001b[0m \u001b[1m0s\u001b[0m 155ms/step - accuracy: 0.8092 - loss: 0.2354\n",
      "Epoch 9: val_loss did not improve from 0.23936\n",
      "\u001b[1m5815/5815\u001b[0m \u001b[32m━━━━━━━━━━━━━━━━━━━━\u001b[0m\u001b[37m\u001b[0m \u001b[1m935s\u001b[0m 161ms/step - accuracy: 0.8092 - loss: 0.2354 - val_accuracy: 0.7992 - val_loss: 0.2421 - learning_rate: 5.0000e-05\n",
      "Epoch 10/20\n",
      "\u001b[1m5815/5815\u001b[0m \u001b[32m━━━━━━━━━━━━━━━━━━━━\u001b[0m\u001b[37m\u001b[0m \u001b[1m0s\u001b[0m 155ms/step - accuracy: 0.8224 - loss: 0.2292\n",
      "Epoch 10: ReduceLROnPlateau reducing learning rate to 2.499999936844688e-05.\n",
      "\n",
      "Epoch 10: val_loss did not improve from 0.23936\n",
      "\u001b[1m5815/5815\u001b[0m \u001b[32m━━━━━━━━━━━━━━━━━━━━\u001b[0m\u001b[37m\u001b[0m \u001b[1m934s\u001b[0m 161ms/step - accuracy: 0.8224 - loss: 0.2292 - val_accuracy: 0.8176 - val_loss: 0.2531 - learning_rate: 5.0000e-05\n",
      "Epoch 11/20\n",
      "\u001b[1m5815/5815\u001b[0m \u001b[32m━━━━━━━━━━━━━━━━━━━━\u001b[0m\u001b[37m\u001b[0m \u001b[1m0s\u001b[0m 155ms/step - accuracy: 0.8280 - loss: 0.2153\n",
      "Epoch 11: val_loss did not improve from 0.23936\n",
      "\u001b[1m5815/5815\u001b[0m \u001b[32m━━━━━━━━━━━━━━━━━━━━\u001b[0m\u001b[37m\u001b[0m \u001b[1m940s\u001b[0m 162ms/step - accuracy: 0.8280 - loss: 0.2153 - val_accuracy: 0.8061 - val_loss: 0.2400 - learning_rate: 2.5000e-05\n",
      "Epoch 12/20\n",
      "\u001b[1m5815/5815\u001b[0m \u001b[32m━━━━━━━━━━━━━━━━━━━━\u001b[0m\u001b[37m\u001b[0m \u001b[1m0s\u001b[0m 155ms/step - accuracy: 0.8356 - loss: 0.2090\n",
      "Epoch 12: ReduceLROnPlateau reducing learning rate to 1.249999968422344e-05.\n",
      "\n",
      "Epoch 12: val_loss did not improve from 0.23936\n",
      "\u001b[1m5815/5815\u001b[0m \u001b[32m━━━━━━━━━━━━━━━━━━━━\u001b[0m\u001b[37m\u001b[0m \u001b[1m935s\u001b[0m 161ms/step - accuracy: 0.8356 - loss: 0.2090 - val_accuracy: 0.8120 - val_loss: 0.2408 - learning_rate: 2.5000e-05\n",
      "Epoch 13/20\n",
      "\u001b[1m5815/5815\u001b[0m \u001b[32m━━━━━━━━━━━━━━━━━━━━\u001b[0m\u001b[37m\u001b[0m \u001b[1m0s\u001b[0m 155ms/step - accuracy: 0.8431 - loss: 0.1965\n",
      "Epoch 13: val_loss improved from 0.23936 to 0.23540, saving model to resnet101_model2.h5\n"
     ]
    },
    {
     "name": "stderr",
     "output_type": "stream",
     "text": [
      "WARNING:absl:You are saving your model as an HDF5 file via `model.save()` or `keras.saving.save_model(model)`. This file format is considered legacy. We recommend using instead the native Keras format, e.g. `model.save('my_model.keras')` or `keras.saving.save_model(model, 'my_model.keras')`. \n"
     ]
    },
    {
     "name": "stdout",
     "output_type": "stream",
     "text": [
      "\u001b[1m5815/5815\u001b[0m \u001b[32m━━━━━━━━━━━━━━━━━━━━\u001b[0m\u001b[37m\u001b[0m \u001b[1m948s\u001b[0m 163ms/step - accuracy: 0.8431 - loss: 0.1965 - val_accuracy: 0.8123 - val_loss: 0.2354 - learning_rate: 1.2500e-05\n",
      "Epoch 14/20\n",
      "\u001b[1m5815/5815\u001b[0m \u001b[32m━━━━━━━━━━━━━━━━━━━━\u001b[0m\u001b[37m\u001b[0m \u001b[1m0s\u001b[0m 155ms/step - accuracy: 0.8473 - loss: 0.1934\n",
      "Epoch 14: val_loss did not improve from 0.23540\n",
      "\u001b[1m5815/5815\u001b[0m \u001b[32m━━━━━━━━━━━━━━━━━━━━\u001b[0m\u001b[37m\u001b[0m \u001b[1m938s\u001b[0m 161ms/step - accuracy: 0.8473 - loss: 0.1934 - val_accuracy: 0.8036 - val_loss: 0.2398 - learning_rate: 1.2500e-05\n",
      "Epoch 15/20\n",
      "\u001b[1m5815/5815\u001b[0m \u001b[32m━━━━━━━━━━━━━━━━━━━━\u001b[0m\u001b[37m\u001b[0m \u001b[1m0s\u001b[0m 154ms/step - accuracy: 0.8474 - loss: 0.1924\n",
      "Epoch 15: ReduceLROnPlateau reducing learning rate to 6.24999984211172e-06.\n",
      "\n",
      "Epoch 15: val_loss did not improve from 0.23540\n",
      "\u001b[1m5815/5815\u001b[0m \u001b[32m━━━━━━━━━━━━━━━━━━━━\u001b[0m\u001b[37m\u001b[0m \u001b[1m933s\u001b[0m 160ms/step - accuracy: 0.8474 - loss: 0.1924 - val_accuracy: 0.8126 - val_loss: 0.2445 - learning_rate: 1.2500e-05\n",
      "Epoch 16/20\n",
      "\u001b[1m5815/5815\u001b[0m \u001b[32m━━━━━━━━━━━━━━━━━━━━\u001b[0m\u001b[37m\u001b[0m \u001b[1m0s\u001b[0m 154ms/step - accuracy: 0.8506 - loss: 0.1890\n",
      "Epoch 16: val_loss improved from 0.23540 to 0.23537, saving model to resnet101_model2.h5\n"
     ]
    },
    {
     "name": "stderr",
     "output_type": "stream",
     "text": [
      "WARNING:absl:You are saving your model as an HDF5 file via `model.save()` or `keras.saving.save_model(model)`. This file format is considered legacy. We recommend using instead the native Keras format, e.g. `model.save('my_model.keras')` or `keras.saving.save_model(model, 'my_model.keras')`. \n"
     ]
    },
    {
     "name": "stdout",
     "output_type": "stream",
     "text": [
      "\u001b[1m5815/5815\u001b[0m \u001b[32m━━━━━━━━━━━━━━━━━━━━\u001b[0m\u001b[37m\u001b[0m \u001b[1m945s\u001b[0m 162ms/step - accuracy: 0.8506 - loss: 0.1890 - val_accuracy: 0.8129 - val_loss: 0.2354 - learning_rate: 6.2500e-06\n",
      "Epoch 17/20\n",
      "\u001b[1m5815/5815\u001b[0m \u001b[32m━━━━━━━━━━━━━━━━━━━━\u001b[0m\u001b[37m\u001b[0m \u001b[1m0s\u001b[0m 154ms/step - accuracy: 0.8542 - loss: 0.1813\n",
      "Epoch 17: ReduceLROnPlateau reducing learning rate to 3.12499992105586e-06.\n",
      "\n",
      "Epoch 17: val_loss did not improve from 0.23537\n",
      "\u001b[1m5815/5815\u001b[0m \u001b[32m━━━━━━━━━━━━━━━━━━━━\u001b[0m\u001b[37m\u001b[0m \u001b[1m933s\u001b[0m 160ms/step - accuracy: 0.8542 - loss: 0.1813 - val_accuracy: 0.8079 - val_loss: 0.2356 - learning_rate: 6.2500e-06\n",
      "Epoch 18/20\n",
      "\u001b[1m5815/5815\u001b[0m \u001b[32m━━━━━━━━━━━━━━━━━━━━\u001b[0m\u001b[37m\u001b[0m \u001b[1m0s\u001b[0m 155ms/step - accuracy: 0.8550 - loss: 0.1784\n",
      "Epoch 18: val_loss improved from 0.23537 to 0.23287, saving model to resnet101_model2.h5\n"
     ]
    },
    {
     "name": "stderr",
     "output_type": "stream",
     "text": [
      "WARNING:absl:You are saving your model as an HDF5 file via `model.save()` or `keras.saving.save_model(model)`. This file format is considered legacy. We recommend using instead the native Keras format, e.g. `model.save('my_model.keras')` or `keras.saving.save_model(model, 'my_model.keras')`. \n"
     ]
    },
    {
     "name": "stdout",
     "output_type": "stream",
     "text": [
      "\u001b[1m5815/5815\u001b[0m \u001b[32m━━━━━━━━━━━━━━━━━━━━\u001b[0m\u001b[37m\u001b[0m \u001b[1m951s\u001b[0m 164ms/step - accuracy: 0.8550 - loss: 0.1784 - val_accuracy: 0.8086 - val_loss: 0.2329 - learning_rate: 3.1250e-06\n",
      "Epoch 19/20\n",
      "\u001b[1m5815/5815\u001b[0m \u001b[32m━━━━━━━━━━━━━━━━━━━━\u001b[0m\u001b[37m\u001b[0m \u001b[1m0s\u001b[0m 157ms/step - accuracy: 0.8588 - loss: 0.1754\n",
      "Epoch 19: val_loss did not improve from 0.23287\n",
      "\u001b[1m5815/5815\u001b[0m \u001b[32m━━━━━━━━━━━━━━━━━━━━\u001b[0m\u001b[37m\u001b[0m \u001b[1m949s\u001b[0m 163ms/step - accuracy: 0.8588 - loss: 0.1754 - val_accuracy: 0.8067 - val_loss: 0.2404 - learning_rate: 3.1250e-06\n",
      "Epoch 20/20\n",
      "\u001b[1m5815/5815\u001b[0m \u001b[32m━━━━━━━━━━━━━━━━━━━━\u001b[0m\u001b[37m\u001b[0m \u001b[1m0s\u001b[0m 155ms/step - accuracy: 0.8604 - loss: 0.1738\n",
      "Epoch 20: ReduceLROnPlateau reducing learning rate to 1.56249996052793e-06.\n",
      "\n",
      "Epoch 20: val_loss did not improve from 0.23287\n",
      "\u001b[1m5815/5815\u001b[0m \u001b[32m━━━━━━━━━━━━━━━━━━━━\u001b[0m\u001b[37m\u001b[0m \u001b[1m935s\u001b[0m 161ms/step - accuracy: 0.8604 - loss: 0.1738 - val_accuracy: 0.8064 - val_loss: 0.2384 - learning_rate: 3.1250e-06\n"
     ]
    },
    {
     "data": {
      "image/png": "[encoded data removed]",
      "text/plain": [
       "<Figure size 1200x500 with 2 Axes>"
      ]
     },
     "metadata": {},
     "output_type": "display_data"
    },
    {
     "name": "stderr",
     "output_type": "stream",
     "text": [
      "/home/mohammad/.local/lib/python3.12/site-packages/keras/src/models/functional.py:237: UserWarning: The structure of `inputs` doesn't match the expected structure.\n",
      "Expected: ['keras_tensor']\n",
      "Received: inputs=Tensor(shape=(8, 320, 320, 3))\n",
      "  warnings.warn(msg)\n"
     ]
    },
    {
     "name": "stdout",
     "output_type": "stream",
     "text": [
      "\u001b[1m461/461\u001b[0m \u001b[32m━━━━━━━━━━━━━━━━━━━━\u001b[0m\u001b[37m\u001b[0m \u001b[1m50s\u001b[0m 98ms/step\n",
      "Threshold 0.5:\n",
      "True Positives: 1185\n",
      "True Negatives: 1776\n",
      "False Positives: 418\n",
      "False Negatives: 302\n",
      "Calculated Accuracy: 80.44%\n",
      "Precision: 0.74\n",
      "Recall: 0.80\n",
      "F1-Score: 0.77\n",
      "Cohen's Kappa: 0.60\n",
      "\n",
      "Threshold 0.46:\n",
      "True Positives: 1195\n",
      "True Negatives: 1732\n",
      "False Positives: 462\n",
      "False Negatives: 292\n",
      "Calculated Accuracy: 79.52%\n",
      "Precision: 0.72\n",
      "Recall: 0.80\n",
      "F1-Score: 0.76\n",
      "Cohen's Kappa: 0.58\n"
     ]
    }
   ],
   "source": [
    "#!/usr/bin/env python\n",
    "# coding: utf-8\n",
    "\n",
    "import os\n",
    "import cv2\n",
    "import numpy as np\n",
    "import pandas as pd\n",
    "import tensorflow as tf\n",
    "from tensorflow.keras.utils import Sequence\n",
    "from tensorflow.keras.applications import ResNet101  # Using ResNet101\n",
    "from tensorflow.keras.applications.resnet import preprocess_input  # ResNet preprocessing\n",
    "from tensorflow.keras.models import Model, load_model\n",
    "from tensorflow.keras.layers import Dense, ELU, GlobalAveragePooling2D, Input, Dropout, BatchNormalization, Flatten\n",
    "from tensorflow.keras.optimizers import Adam\n",
    "from tensorflow.keras.regularizers import l2\n",
    "from tensorflow.keras.callbacks import ReduceLROnPlateau, EarlyStopping, ModelCheckpoint\n",
    "from tensorflow.keras.preprocessing.image import ImageDataGenerator\n",
    "from sklearn.model_selection import train_test_split\n",
    "from sklearn.metrics import roc_auc_score, cohen_kappa_score, confusion_matrix\n",
    "import seaborn as sns\n",
    "import matplotlib.pyplot as plt\n",
    "from collections import defaultdict\n",
    "import json\n",
    "\n",
    "# Constants\n",
    "IMG_SIZE = (320, 320)  \n",
    "BATCH_SIZE = 8\n",
    "EPOCHS = 20\n",
    "DATA_PATH = \"../MURA-v1.1\"\n",
    "TRAIN_PATH = DATA_PATH + \"/train_labeled_studies.csv\"\n",
    "VALID_PATH = DATA_PATH + \"/valid_labeled_studies.csv\"\n",
    "\n",
    "# Load Data\n",
    "def load_data(csv_path):\n",
    "    df = pd.read_csv(csv_path, names=['Path', 'Label'], header=None)\n",
    "    image_paths, labels = [], []\n",
    "    base_dir = \"../\"  # Root dataset directory\n",
    "    for _, row in df.iterrows():\n",
    "        study_path = os.path.join(base_dir, row[\"Path\"])\n",
    "        label = row[\"Label\"]\n",
    "        for image_file in os.listdir(study_path):\n",
    "            image_path = os.path.join(study_path, image_file)\n",
    "            if image_path.endswith(\".png\") and not image_file.startswith(\"._\"):\n",
    "                image_paths.append(image_path)\n",
    "                labels.append(label)\n",
    "    return np.array(image_paths), np.array(labels)\n",
    "\n",
    "train_image_paths, train_labels = load_data(TRAIN_PATH)\n",
    "valid_image_paths, valid_labels = load_data(VALID_PATH)\n",
    "X_train, X_test, y_train, y_test = train_test_split(train_image_paths, train_labels, test_size=0.1, stratify=train_labels, random_state=42)\n",
    "\n",
    "# Compute Class Weights\n",
    "todf = pd.Series(train_labels)\n",
    "class_counts = todf.value_counts().to_dict()\n",
    "NormalCount = class_counts.get(0, 0)  # Normal (0)\n",
    "AbnormalCount = class_counts.get(1, 0)  # Abnormal (1)\n",
    "w1 = NormalCount / (NormalCount + AbnormalCount)  # Weight for class 0\n",
    "w2 = AbnormalCount / (NormalCount + AbnormalCount)  # Weight for class 1\n",
    "class_weights = {0: w2, 1: w1}  # More weight to minority class\n",
    "print(\"Class Weights:\", class_weights)\n",
    "\n",
    "# Data Augmentation\n",
    "train_datagen = ImageDataGenerator(\n",
    "    rotation_range=20,\n",
    "    width_shift_range=0.2,\n",
    "    height_shift_range=0.2,\n",
    "    horizontal_flip=True,\n",
    "    zoom_range=0.2,\n",
    "    preprocessing_function=preprocess_input  # ResNet101 preprocessing\n",
    ")\n",
    "\n",
    "# Custom Data Generator\n",
    "class MURADataGenerator(Sequence):\n",
    "    def __init__(self, image_paths, labels, class_weights, batch_size=BATCH_SIZE, img_size=IMG_SIZE, augment=False, shuffle=True):\n",
    "        # Initialize empty lists to store the modified dataset\n",
    "        self.image_paths = []\n",
    "        self.labels = []\n",
    "\n",
    "        # Duplicate entries for label 1\n",
    "        for path, label in zip(image_paths, labels):\n",
    "            self.image_paths.append(path)\n",
    "            self.labels.append(label)\n",
    "            if label == 1 and augment == True and shuffle==True :  # For label 1, add the image and label again\n",
    "                self.image_paths.append(path)\n",
    "                self.labels.append(label)\n",
    "\n",
    "        self.class_weights = class_weights  # Store class weights\n",
    "        self.batch_size = batch_size\n",
    "        self.img_size = img_size\n",
    "        self.augment = augment\n",
    "        self.shuffle = shuffle\n",
    "        self.datagen = train_datagen if augment else None\n",
    "        self.on_epoch_end()\n",
    "    \n",
    "    def __len__(self):\n",
    "        return int(np.ceil(len(self.image_paths) / self.batch_size))\n",
    "    \n",
    "    def __getitem__(self, index):\n",
    "        batch_paths = self.image_paths[index * self.batch_size:(index + 1) * self.batch_size]\n",
    "        batch_labels = self.labels[index * self.batch_size:(index + 1) * self.batch_size]\n",
    "        X, y = self.__data_generation(batch_paths, batch_labels)\n",
    "        sample_weights = np.array([self.class_weights[label] for label in batch_labels])\n",
    "        return X, y, sample_weights\n",
    "    \n",
    "    def on_epoch_end(self):\n",
    "        if self.shuffle:\n",
    "            temp = list(zip(self.image_paths, self.labels))\n",
    "            np.random.shuffle(temp)\n",
    "            self.image_paths, self.labels = zip(*temp)\n",
    "    \n",
    "    def __data_generation(self, batch_paths, batch_labels):\n",
    "        images = []\n",
    "        for path in batch_paths:\n",
    "            img = cv2.imread(path, cv2.IMREAD_GRAYSCALE)\n",
    "            img = cv2.resize(img, self.img_size)\n",
    "            img = np.stack([img] * 3, axis=-1)  # Convert to 3 channels\n",
    "            img = preprocess_input(img)  # ResNet101 preprocessing\n",
    "            if self.augment:\n",
    "                img = self.datagen.random_transform(img)\n",
    "            images.append(img)\n",
    "        return np.array(images).reshape(-1, *self.img_size, 3), np.array(batch_labels)\n",
    "\n",
    "# Generators\n",
    "train_generator = MURADataGenerator(X_train, y_train, class_weights, augment=True)\n",
    "valid_generator = MURADataGenerator(valid_image_paths, valid_labels, class_weights, augment=False, shuffle=False)\n",
    "test_generator = MURADataGenerator(X_test, y_test, class_weights, augment=False, shuffle=False)\n",
    "\n",
    "# Load Pretrained ResNet101 Model\n",
    "base_model = ResNet101(weights='imagenet', include_top=False, input_tensor=Input(shape=(*IMG_SIZE, 3)))\n",
    "\n",
    "# Gradually Unfreeze Layers\n",
    "for layer in base_model.layers[:-50]:\n",
    "    layer.trainable = False\n",
    "for layer in base_model.layers[-50:]:\n",
    "    layer.trainable = True\n",
    "\n",
    "# Add Custom Classifier Head\n",
    "x = Flatten()(base_model.output)\n",
    "x = Dense(units=128, kernel_initializer='he_normal', kernel_regularizer=l2(0.02))(x)\n",
    "x = BatchNormalization()(x)\n",
    "x = ELU(alpha=1.0)(x)\n",
    "x = Dropout(0.5)(x)\n",
    "x = Dense(1, activation='sigmoid')(x)\n",
    "\n",
    "# Compile Model\n",
    "model = Model(inputs=base_model.input, outputs=x)\n",
    "model.compile(optimizer=Adam(learning_rate=1e-4), loss='binary_crossentropy', metrics=['accuracy'])\n",
    "\n",
    "# Callbacks\n",
    "lr_scheduler = ReduceLROnPlateau(monitor='val_loss', factor=0.5, patience=2, min_lr=1e-6, verbose=1)\n",
    "early_stopping = EarlyStopping(monitor='val_loss', patience=5, restore_best_weights=True)\n",
    "model_checkpoint = ModelCheckpoint(\n",
    "    \"resnet101_model2.h5\",\n",
    "    monitor='val_loss',\n",
    "    save_best_only=True,\n",
    "    verbose=1\n",
    ")\n",
    "\n",
    "# Train Model\n",
    "history = model.fit(\n",
    "    train_generator,\n",
    "    validation_data=valid_generator,\n",
    "    epochs=EPOCHS,\n",
    "    callbacks=[lr_scheduler, early_stopping, model_checkpoint]\n",
    ")\n",
    "\n",
    "# Save History\n",
    "with open('resnet101_history.json', 'w') as f:\n",
    "    json.dump(history.history, f)\n",
    "\n",
    "# Load and Plot History\n",
    "history_path = \"resnet101_history.json\"\n",
    "with open(history_path, \"r\") as file:\n",
    "    history = json.load(file)\n",
    "\n",
    "epochs = range(1, len(history[\"accuracy\"]) + 1)\n",
    "train_acc = history[\"accuracy\"]\n",
    "val_acc = history[\"val_accuracy\"]\n",
    "train_loss = history[\"loss\"]\n",
    "val_loss = history[\"val_loss\"]\n",
    "\n",
    "plt.figure(figsize=(12, 5))\n",
    "\n",
    "# Accuracy plot\n",
    "plt.subplot(1, 2, 1)\n",
    "plt.plot(epochs, train_acc, 'b-o', label='Training Accuracy')\n",
    "plt.plot(epochs, val_acc, 'r-o', label='Validation Accuracy')\n",
    "plt.xlabel('Epochs')\n",
    "plt.ylabel('Accuracy')\n",
    "plt.title('Training and Validation Accuracy')\n",
    "plt.legend()\n",
    "plt.grid()\n",
    "\n",
    "# Loss plot\n",
    "plt.subplot(1, 2, 2)\n",
    "plt.plot(epochs, train_loss, 'b-o', label='Training Loss')\n",
    "plt.plot(epochs, val_loss, 'r-o', label='Validation Loss')\n",
    "plt.xlabel('Epochs')\n",
    "plt.ylabel('Loss')\n",
    "plt.title('Training and Validation Loss')\n",
    "plt.legend()\n",
    "plt.grid()\n",
    "\n",
    "plt.tight_layout()\n",
    "plt.show()\n",
    "\n",
    "# Predictions\n",
    "pred = model.predict(test_generator)\n",
    "\n",
    "# Image Level Performance (Threshold 0.5)\n",
    "predictions = pred.flatten()\n",
    "predictions = (predictions > 0.5).astype(int)\n",
    "y_test = np.array(y_test).astype(int)\n",
    "predictions = np.array(predictions).astype(int)\n",
    "\n",
    "true_positives = np.sum((predictions == 1) & (y_test == 1))\n",
    "true_negatives = np.sum((predictions == 0) & (y_test == 0))\n",
    "false_positives = np.sum((predictions == 1) & (y_test == 0))\n",
    "false_negatives = np.sum((predictions == 0) & (y_test == 1))\n",
    "\n",
    "print(f\"Threshold 0.5:\")\n",
    "print(f\"True Positives: {true_positives}\")\n",
    "print(f\"True Negatives: {true_negatives}\")\n",
    "print(f\"False Positives: {false_positives}\")\n",
    "print(f\"False Negatives: {false_negatives}\")\n",
    "\n",
    "accuracy = (true_positives + true_negatives) / len(y_test)\n",
    "print(f\"Calculated Accuracy: {accuracy * 100:.2f}%\")\n",
    "\n",
    "precision = true_positives / (true_positives + false_positives)\n",
    "recall = true_positives / (true_positives + false_negatives)\n",
    "print(f\"Precision: {precision:.2f}\")\n",
    "print(f\"Recall: {recall:.2f}\")\n",
    "f1_score = 2 * (precision * recall) / (precision + recall)\n",
    "print(f\"F1-Score: {f1_score:.2f}\")\n",
    "\n",
    "kappa = cohen_kappa_score(y_test, predictions)\n",
    "print(f\"Cohen's Kappa: {kappa:.2f}\")\n",
    "\n",
    "# Image Level Performance (Threshold 0.46)\n",
    "predictions = pred.flatten()\n",
    "predictions = (predictions > 0.46).astype(int)\n",
    "y_test = np.array(y_test).astype(int)\n",
    "predictions = np.array(predictions).astype(int)\n",
    "\n",
    "true_positives = np.sum((predictions == 1) & (y_test == 1))\n",
    "true_negatives = np.sum((predictions == 0) & (y_test == 0))\n",
    "false_positives = np.sum((predictions == 1) & (y_test == 0))\n",
    "false_negatives = np.sum((predictions == 0) & (y_test == 1))\n",
    "\n",
    "print(f\"\\nThreshold 0.46:\")\n",
    "print(f\"True Positives: {true_positives}\")\n",
    "print(f\"True Negatives: {true_negatives}\")\n",
    "print(f\"False Positives: {false_positives}\")\n",
    "print(f\"False Negatives: {false_negatives}\")\n",
    "\n",
    "accuracy = (true_positives + true_negatives) / len(y_test)\n",
    "print(f\"Calculated Accuracy: {accuracy * 100:.2f}%\")\n",
    "\n",
    "precision = true_positives / (true_positives + false_positives)\n",
    "recall = true_positives / (true_positives + false_negatives)\n",
    "print(f\"Precision: {precision:.2f}\")\n",
    "print(f\"Recall: {recall:.2f}\")\n",
    "f1_score = 2 * (precision * recall) / (precision + recall)\n",
    "print(f\"F1-Score: {f1_score:.2f}\")\n",
    "\n",
    "kappa = cohen_kappa_score(y_test, predictions)\n",
    "print(f\"Cohen's Kappa: {kappa:.2f}\")"
   ]
  },
  {
   "cell_type": "code",
   "execution_count": null,
   "id": "3c64e572",
   "metadata": {},
   "outputs": [],
   "source": []
  }
 ],
 "metadata": {
  "kernelspec": {
   "display_name": "Python 3 (ipykernel)",
   "language": "python",
   "name": "python3"
  },
  "language_info": {
   "codemirror_mode": {
    "name": "ipython",
    "version": 3
   },
   "file_extension": ".py",
   "mimetype": "text/x-python",
   "name": "python",
   "nbconvert_exporter": "python",
   "pygments_lexer": "ipython3",
   "version": "3.12.3"
  }
 },
 "nbformat": 4,
 "nbformat_minor": 5
}
